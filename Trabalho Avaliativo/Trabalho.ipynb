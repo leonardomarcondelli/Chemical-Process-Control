{
 "cells": [
  {
   "cell_type": "markdown",
   "id": "82e6ced9",
   "metadata": {},
   "source": [
    "# Trabalho de CPQ 2\n",
    "#### Leonardo Caetano Marcondelli - 11611EQU054\n",
    "#### Maria Luiza de Campos Souza - 11821EQU015\n",
    "\n",
    "\n",
    "Um processo industrial utiliza um tanque de mistura alimentado por duas correntes com diferentes concentrações mássicas de sacarose para assegurar a consistência final do seu produto. Os valores do ponto de operação do sistema e estado estacionário estão apresentados na Tabela 1. Com base nessas informações deseja-se investigar o comportamento dinâmico do processo."
   ]
  },
  {
   "cell_type": "markdown",
   "id": "943024a4",
   "metadata": {},
   "source": [
    "\\begin{aligned}\n",
    "&\\text {Tabela 1: Valores nominais para o ponto de operação. }\\\\\n",
    "&\\begin{array}{|l|l|l|}\n",
    "\\hline \\text { Variável } & \\text { Valor } & \\text { Unidades } \\\\\n",
    "\\hline \\mathrm{F_1}  & 2,00 & \\mathrm{~L} / \\mathrm{min} \\\\\n",
    "\\hline \\mathrm{F_2}  & 3,00 & \\mathrm{~L} / \\mathrm{min} \\\\\n",
    "\\hline \\mathrm{C_1}  & 9,00 & \\mathrm{~kg} / \\mathrm{L} \\\\\n",
    "\\hline \\mathrm{C_2}  & 4,00 & \\mathrm{~kg} / \\mathrm{L} \\\\\n",
    "\\hline \\mathrm{V} & 10,0 & \\mathrm{~L} \\\\\n",
    "\\hline\n",
    "\\end{array}\n",
    "\\end{aligned}"
   ]
  },
  {
   "cell_type": "markdown",
   "id": "7c33e58c",
   "metadata": {},
   "source": [
    "# 1\n",
    "Desenvolver o modelo do tanque de mistura para concentração mássica de sacarose na corrente de saída considerando que o sistema seja operado a volume constante. Liste os estados, as entradas e os parâmetros do processo. Considere $F_1 = F_{1(t)}$ (entrada manipulada) e $C_1 = C_{1(t)}$ (perturbação)\n"
   ]
  },
  {
   "cell_type": "markdown",
   "id": "aaab879f",
   "metadata": {},
   "source": [
    "#### Balanço de Massa Global:\n",
    "\n",
    "$ m{\\mid_{t+\\Delta t}} = m{\\mid_t} + \\dot{m}_{entra} - \\dot{m}_{sai} $ \\\n",
    "\\\n",
    "$\\frac{m\\mid_{t+\\Delta t} - m{\\mid_t}}{\\Delta t} = \\dot{m}_{entra} - \\dot{m}_{sai}$ \\\n",
    "\\\n",
    "$ \\frac{dm}{dt} = \\dot{m}_{entra} - \\dot{m}_{sai} $ \\\n",
    "\\\n",
    "mas: \\\n",
    "\\\n",
    "$ m = \\rho  V$ \\\n",
    "\\\n",
    "$ \\dot{m}_{entra} = \\rho_i F_i$ \\\n",
    "\\\n",
    "$ \\dot{m}_{sai} = \\rho F$ \\\n",
    "\\\n",
    "Substituindo as expressões acima: \\\n",
    "\\\n",
    "$\\frac{d(\\rho V)}{dt} = \\rho_i F_1 + \\rho_i F_2 - \\rho F$ \\\n",
    "\\\n",
    "Seja $\\rho$ constante: \\\n",
    "\\\n",
    "$\\rho \\frac{dV}{dt} = \\rho (F_1 + F_2 - F)$ \\\n",
    "\\\n",
    "$ V = cte $\n",
    "\n",
    "## $ F = F_1 + F_2$ "
   ]
  },
  {
   "cell_type": "markdown",
   "id": "52182345",
   "metadata": {},
   "source": [
    "#### Balanço de massa para o componente:\n",
    "\n",
    "$ m{\\mid_{t+\\Delta t}} = m{\\mid_t} + \\dot{m}_{entra} - \\dot{m}_{sai} + \\dot{m}_{reage} $\\\n",
    "\\\n",
    "$ \\frac{m{\\mid_{t+\\Delta t}}}{m{\\mid_t}} = \\Delta t ( \\dot{m}_{entra} - \\dot{m}_{sai} + \\dot{m}_{reage}) $ \\\n",
    "\\\n",
    "$ \\lim_{x\\rightarrow\\infty} (\\frac{m{\\mid_{t+\\Delta t}}}{m{\\mid_t}}) = \\dot{m}_{entra} - \\dot{m}_{sai} + \\dot{m}_{reage} $ \\\n",
    "\\\n",
    "$ \\frac{dm}{dt} = \\dot{m}_{entra} - \\dot{m}_{sai} + \\dot{m}_{reage} $ \\\n",
    "\\\n",
    "Sabe-se que:\\\n",
    "\\\n",
    "$C = \\frac{N}{V}$ \\\n",
    "\\\n",
    "$N = \\frac{m}{MM}$ \\\n",
    "\\\n",
    "$m = C. V. MM $ \\\n",
    "\\\n",
    "$ \\rho = \\frac{m}{V}$ \\\n",
    "\\\n",
    "Pela hipótese de mistura perfeita temos que a concentração no volume de controle é a mesma da corrente de saída\n",
    "\\\n",
    "\\\n",
    "$m = C. F. {MM}$ \\\n",
    "\\\n",
    "Então:\n",
    "\\\n",
    "\\\n",
    "$ \\frac{d(C_{out} V)}{dt} = C_1 F_1 + C_2 F_2 - C_{out} F$ \\\n",
    "\\\n",
    "$ [\\frac{kg}{L}\\frac{L}{min}] = [\\frac{kg}{L} \\frac{L}{min}] + [\\frac{kg}{L} \\frac{L}{min}] - [\\frac{kg}{L} \\frac{L}{min}]$ \\\n",
    "\\\n",
    "$\\frac{kg}{min} = \\frac{kg}{min}$ \\\n",
    "\\\n",
    "$C = C_{out}$ e V constante:\n",
    "\n",
    "$  V \\frac{dC}{dt} = C_1 F_1  + C_2 F_2  - C F $ \n",
    "\n",
    "### ${\\frac{dC}{dt} = \\frac{1}{V} (C_1 F_1  + C_2 F_2  - C F)} $"
   ]
  },
  {
   "cell_type": "markdown",
   "id": "2a9d9813",
   "metadata": {},
   "source": [
    "### Entradas\n",
    "$ F_1 $ \\\n",
    "$ F_2 $\n",
    "\n",
    "### Estados   (respostas das EDO´s)\n",
    "\n",
    "### Parâmetros\n",
    "$V$ \\\n",
    "$\\rho$"
   ]
  },
  {
   "cell_type": "markdown",
   "id": "919f67f3",
   "metadata": {},
   "source": [
    "# 2\n",
    "Apresente a equação do estado estacionário do modelo. Com base nos dados da Tabela 1, calcule o estado estacionário inicial do sistema."
   ]
  },
  {
   "cell_type": "markdown",
   "id": "d9b1831c",
   "metadata": {},
   "source": [
    "# 3\n",
    " Linearize o sistema caso necessário e apresente o modelo em função de transferência. Demonstre que o modelo em função de transferência é dado por:\n",
    " \n",
    "$C_{\\text {out }}^{\\prime}(s)=G_1(s) F_1^{\\prime}(s)+G_2(s) C_1^{\\prime}(s)$"
   ]
  },
  {
   "cell_type": "markdown",
   "id": "3299038b",
   "metadata": {},
   "source": [
    "# 4\n",
    "Utilize o modelo não linear e simule um cenário no qual o tanque opera em estado estacionário por 2 min quando sofre uma alteração na vazão de entrada F1 que aumenta **1.38** L/min por 5 min e depois retorna ao seu estado estacionário de origem, ou seja, um pulso de duração tp = 5 min é aplicado.\n",
    "\n",
    "Some os dígitos da matrícula de ambos os integrantes e substitua a indicação XX pelos dois primeiros valores.\n",
    "11611EQU054\n",
    "11821EQU015\n",
    "\n",
    "SOMA = 38"
   ]
  },
  {
   "cell_type": "markdown",
   "id": "5094e8ea",
   "metadata": {},
   "source": [
    "# 5\n",
    "Simule o mesmo cenário apresentado no item anterior utilizando o modelo em Laplace. Note que neste cenário estamos considerando somente alterações na entrada manipulada $F_{\\text {1}}^{\\prime}(t)$ e mantendo $C_{\\text {1}}^{\\prime}(t)$ constante, ou seja, vamos considerar somente:\n",
    "\n",
    "\n",
    "### $ \\frac{C_{\\text {out}}^{\\prime}(s)}{F_{\\text {1}}^{\\prime}(s)} = G_1 (s) $ \n",
    "\\\n",
    "Apresente um fgura comparando o comportamento dinâmico de ambos os modelos. Pode-se dizer que foi uma boa aproximação? Comente sua resposta. Apresentar gráfcos com as curvas simuladas do modelo linear e não-linear em variável desvio."
   ]
  },
  {
   "cell_type": "code",
   "execution_count": null,
   "id": "f6e07a02",
   "metadata": {},
   "outputs": [],
   "source": []
  },
  {
   "cell_type": "code",
   "execution_count": null,
   "id": "50c9bbda",
   "metadata": {},
   "outputs": [],
   "source": []
  },
  {
   "cell_type": "code",
   "execution_count": null,
   "id": "0159c9c3",
   "metadata": {},
   "outputs": [],
   "source": []
  },
  {
   "cell_type": "code",
   "execution_count": null,
   "id": "2998e52e",
   "metadata": {},
   "outputs": [],
   "source": []
  },
  {
   "cell_type": "code",
   "execution_count": null,
   "id": "9187dfe4",
   "metadata": {},
   "outputs": [],
   "source": []
  },
  {
   "cell_type": "code",
   "execution_count": null,
   "id": "d157396d",
   "metadata": {},
   "outputs": [],
   "source": []
  }
  {
   "cell_type": "code",
   "execution_count": null,
   "id": "d157396d",
   "metadata": {},
   "outputs": [],
   "source": []
  }
  {
   "cell_type": "code",
   "execution_count": null,
   "id": "d157396d",
   "metadata": {},
   "outputs": [],
   "source": []
  }
 ],
 "metadata": {
  "kernelspec": {
   "display_name": "Python 3 (ipykernel)",
   "language": "python",
   "name": "python3"
  },
  "language_info": {
   "codemirror_mode": {
    "name": "ipython",
    "version": 3
   },
   "file_extension": ".py",
   "mimetype": "text/x-python",
   "name": "python",
   "nbconvert_exporter": "python",
   "pygments_lexer": "ipython3",
   "version": "3.9.13"
  }
 },
 "nbformat": 4,
 "nbformat_minor": 5
}
